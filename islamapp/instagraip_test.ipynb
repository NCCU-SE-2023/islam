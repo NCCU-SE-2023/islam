{
 "cells": [
  {
   "cell_type": "code",
   "execution_count": 1,
   "metadata": {},
   "outputs": [],
   "source": [
    "from model.data_models.user_followers import UserFollowers\n",
    "from model.data_models.user_following import UserFollowing"
   ]
  },
  {
   "cell_type": "code",
   "execution_count": 3,
   "metadata": {},
   "outputs": [
    {
     "data": {
      "text/plain": [
       "MongoClient(host=['localhost:27017'], document_class=dict, tz_aware=False, connect=True, read_preference=Primary(), uuidrepresentation=3)"
      ]
     },
     "execution_count": 3,
     "metadata": {},
     "output_type": "execute_result"
    }
   ],
   "source": [
    "import mongoengine\n",
    "\n",
    "# connect to MongoDB\n",
    "mongoengine.connect(db='islam', host='localhost', port=27017, username='islam', password='islam')"
   ]
  },
  {
   "cell_type": "code",
   "execution_count": 20,
   "metadata": {},
   "outputs": [],
   "source": [
    "from scraper.instagrapi import Instagrapi\n",
    "\n",
    "instagrapi = Instagrapi(\"rice_to_islam\", \"islamislam\", \"task_id\")"
   ]
  },
  {
   "cell_type": "code",
   "execution_count": 16,
   "metadata": {},
   "outputs": [],
   "source": [
    "following_list = UserFollowing.get_all_user_following_by_ig_id(\"rice_to_islam\").first().following_list"
   ]
  },
  {
   "cell_type": "code",
   "execution_count": 22,
   "metadata": {},
   "outputs": [],
   "source": [
    "user_id = instagrapi.cl.user_id_from_username(following_list[2])\n",
    "second = instagrapi.cl.user_followers_gql_chunk(user_id, max_amount=3)"
   ]
  },
  {
   "cell_type": "code",
   "execution_count": 12,
   "metadata": {},
   "outputs": [
    {
     "name": "stdout",
     "output_type": "stream",
     "text": [
      "[<UserFollowers: UserFollowers object>, <UserFollowers: UserFollowers object>]\n"
     ]
    }
   ],
   "source": [
    "print(UserFollowers.objects(scraped_ig_id=\"ch_yj0325\"))"
   ]
  }
 ],
 "metadata": {
  "kernelspec": {
   "display_name": ".ISLAMENV",
   "language": "python",
   "name": "python3"
  },
  "language_info": {
   "codemirror_mode": {
    "name": "ipython",
    "version": 3
   },
   "file_extension": ".py",
   "mimetype": "text/x-python",
   "name": "python",
   "nbconvert_exporter": "python",
   "pygments_lexer": "ipython3",
   "version": "3.9.6"
  },
  "orig_nbformat": 4
 },
 "nbformat": 4,
 "nbformat_minor": 2
}
